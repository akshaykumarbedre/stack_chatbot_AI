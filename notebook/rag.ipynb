{
 "cells": [
  {
   "cell_type": "code",
   "execution_count": 1,
   "metadata": {},
   "outputs": [],
   "source": [
    "from langchain_community.document_loaders import PyMuPDFLoader"
   ]
  },
  {
   "cell_type": "code",
   "execution_count": 8,
   "metadata": {},
   "outputs": [],
   "source": [
    "from dotenv import load_dotenv\n",
    "import os\n",
    "load_dotenv()\n",
    "gemini_api_key=os.environ['GEMINI_API_KEY']\n"
   ]
  },
  {
   "cell_type": "code",
   "execution_count": 2,
   "metadata": {},
   "outputs": [],
   "source": [
    "document=PyMuPDFLoader(\"zepto.pdf\").load()"
   ]
  },
  {
   "cell_type": "code",
   "execution_count": 3,
   "metadata": {},
   "outputs": [],
   "source": [
    "from langchain_text_splitters import RecursiveCharacterTextSplitter\n",
    "\n",
    "test_splitter=RecursiveCharacterTextSplitter( chunk_size=1000,\n",
    "    chunk_overlap=200,)\n",
    "spit_doc=test_splitter.split_documents(document)"
   ]
  },
  {
   "cell_type": "code",
   "execution_count": 4,
   "metadata": {},
   "outputs": [],
   "source": [
    "from langchain.vectorstores import FAISS"
   ]
  },
  {
   "cell_type": "code",
   "execution_count": 5,
   "metadata": {},
   "outputs": [
    {
     "name": "stderr",
     "output_type": "stream",
     "text": [
      "c:\\Users\\AkshayKumarBM\\miniconda3\\envs\\agent\\lib\\site-packages\\tqdm\\auto.py:21: TqdmWarning: IProgress not found. Please update jupyter and ipywidgets. See https://ipywidgets.readthedocs.io/en/stable/user_install.html\n",
      "  from .autonotebook import tqdm as notebook_tqdm\n"
     ]
    }
   ],
   "source": [
    "from langchain_google_genai import ChatGoogleGenerativeAI,GoogleGenerativeAIEmbeddings"
   ]
  },
  {
   "cell_type": "code",
   "execution_count": 10,
   "metadata": {},
   "outputs": [],
   "source": [
    "# Initialize OpenAI Embeddings\n",
    "embeddings = GoogleGenerativeAIEmbeddings(model=\"models/embedding-001\",google_api_key=gemini_api_key)\n",
    "\n",
    "# Create FAISS Vector Store\n",
    "vector_store = FAISS.from_documents(spit_doc, embeddings)"
   ]
  },
  {
   "cell_type": "code",
   "execution_count": 11,
   "metadata": {},
   "outputs": [],
   "source": [
    "FAISS.save_local(vector_store,\"vector_store\")"
   ]
  },
  {
   "cell_type": "code",
   "execution_count": 14,
   "metadata": {},
   "outputs": [],
   "source": [
    "vector=FAISS.load_local(\"vector_store\",allow_dangerous_deserialization=True,embeddings=embeddings)"
   ]
  },
  {
   "cell_type": "code",
   "execution_count": 18,
   "metadata": {},
   "outputs": [],
   "source": [
    "retriever = vector.as_retriever( search_kwargs={'k': 6, })\n"
   ]
  },
  {
   "cell_type": "code",
   "execution_count": 19,
   "metadata": {},
   "outputs": [
    {
     "data": {
      "text/plain": [
       "[Document(id='44e7a223-fbbf-4a27-bae9-ee78489dca18', metadata={'producer': 'Canva', 'creator': 'Canva', 'creationdate': '2024-05-23T03:45:33+00:00', 'source': 'zepto.pdf', 'file_path': 'zepto.pdf', 'total_pages': 9, 'format': 'PDF 1.4', 'title': 'NL - Zepto', 'author': 'Bhallamudi Sriharsha', 'subject': '', 'keywords': 'DAGEnn4c29g,BAD8HHSDm2U', 'moddate': '2024-05-23T03:45:29+00:00', 'trapped': '', 'modDate': \"D:20240523034529+00'00'\", 'creationDate': \"D:20240523034533+00'00'\", 'page': 6}, page_content='based filtering techniques to ensure a mix of\\nbased filtering techniques to ensure a mix of\\nfamiliar and new product recommendations\\nfamiliar and new product recommendations\\nObtain clear and informed user consent for\\nObtain clear and informed user consent for\\ndata \\ncollection \\nand \\npersonalization\\ndata \\ncollection \\nand \\npersonalization\\npractices. The essential data will only be\\npractices. The essential data will only be\\nconnected for recommendations\\nconnected for recommendations\\nMitigation\\nMitigation  \\nSystem Design\\nWireframes\\nProblem & Validation\\nProposed Solutions\\nPrioritization\\nSurvey Insights\\nOverview'),\n",
       " Document(id='cafd711a-d29f-43f6-87f1-14a3e289c1eb', metadata={'producer': 'Canva', 'creator': 'Canva', 'creationdate': '2024-05-23T03:45:33+00:00', 'source': 'zepto.pdf', 'file_path': 'zepto.pdf', 'total_pages': 9, 'format': 'PDF 1.4', 'title': 'NL - Zepto', 'author': 'Bhallamudi Sriharsha', 'subject': '', 'keywords': 'DAGEnn4c29g,BAD8HHSDm2U', 'moddate': '2024-05-23T03:45:29+00:00', 'trapped': '', 'modDate': \"D:20240523034529+00'00'\", 'creationDate': \"D:20240523034533+00'00'\", 'page': 5}, page_content='while also helping users explore the\\nother products too\\nOn the Product Detail Page, in addition to adding the product to the cart, the user can also set a reminder.\\n Upon setting a reminder, the product is added to the Stock up Suite and the user is reminded  about the product accordingly\\nBased on purchase trends, the top-\\nBased on purchase trends, the top-\\nselling product will be highlighted and\\nselling product will be highlighted and\\nrecommended to the user with a\\nrecommended to the user with a    \\ngolden star\\ngolden star\\nUpon tapping \\nUpon tapping Pantry Pulse\\nPantry Pulse, a side\\n, a side\\nnavigation bar opens up and the user\\nnavigation bar opens up and the user\\ncan access the following:\\ncan access the following:\\nItems back in stock:\\nItems back in stock: Products that\\n Products that\\nare out of stock and the user\\nare out of stock and the user\\nwishes to be notified about\\nwishes to be notified about\\nDeals:\\nDeals: User is shown product\\n User is shown product'),\n",
       " Document(id='e1eea871-7ec0-44e8-8f64-6ea30fd86cf7', metadata={'producer': 'Canva', 'creator': 'Canva', 'creationdate': '2024-05-23T03:45:33+00:00', 'source': 'zepto.pdf', 'file_path': 'zepto.pdf', 'total_pages': 9, 'format': 'PDF 1.4', 'title': 'NL - Zepto', 'author': 'Bhallamudi Sriharsha', 'subject': '', 'keywords': 'DAGEnn4c29g,BAD8HHSDm2U', 'moddate': '2024-05-23T03:45:29+00:00', 'trapped': '', 'modDate': \"D:20240523034529+00'00'\", 'creationDate': \"D:20240523034533+00'00'\", 'page': 5}, page_content='Products that\\nare out of stock and the user\\nare out of stock and the user\\nwishes to be notified about\\nwishes to be notified about\\nDeals:\\nDeals: User is shown product\\n User is shown product\\nbundles/ deals based on past\\nbundles/ deals based on past\\npurchases, search behaviour and\\npurchases, search behaviour and\\ntrends \\n(top-selling \\nproducts,\\ntrends \\n(top-selling \\nproducts,\\nregion-wise, occasions etc.)\\nregion-wise, occasions etc.)  \\nStock-up suite:\\nStock-up suite: User is shown\\n User is shown\\nproducts to be restocked based on\\nproducts to be restocked based on\\nthe reminders set by analysing the\\nthe reminders set by analysing the\\nprevious purchase cycles/ patterns\\nprevious purchase cycles/ patterns  \\nThe user can either tap on the product\\nThe user can either tap on the product\\ntiles and be navigated to the product\\ntiles and be navigated to the product\\npage or can long press and add it\\npage or can long press and add it\\ndirectly into the cart \\ndirectly into the cart (ease of usage)'),\n",
       " Document(id='1c471b14-cc06-4a4b-804e-b9bf59599a77', metadata={'producer': 'Canva', 'creator': 'Canva', 'creationdate': '2024-05-23T03:45:33+00:00', 'source': 'zepto.pdf', 'file_path': 'zepto.pdf', 'total_pages': 9, 'format': 'PDF 1.4', 'title': 'NL - Zepto', 'author': 'Bhallamudi Sriharsha', 'subject': '', 'keywords': 'DAGEnn4c29g,BAD8HHSDm2U', 'moddate': '2024-05-23T03:45:29+00:00', 'trapped': '', 'modDate': \"D:20240523034529+00'00'\", 'creationDate': \"D:20240523034533+00'00'\", 'page': 5}, page_content='For staples and everyday essentials,\\nthe user would be nudged to explore\\nthe user would be nudged to explore\\nthe \\nthe ‘Subscribe and Save’\\n‘Subscribe and Save’ option\\n option\\nUpon selecting the option, the user is\\nUpon selecting the option, the user is\\nalerted about the product based on\\nalerted about the product based on\\npurchase patterns and the products\\npurchase patterns and the products\\nwill be delivered accordingly basis\\nwill be delivered accordingly basis\\nthe user’s consent.\\nthe user’s consent.  \\nThe “\\nThe “Subscribe and Save’\\nSubscribe and Save’ feature\\n feature\\nwill also be tied with the Zepto Pass\\nwill also be tied with the Zepto Pass\\nthat would persuade the user to\\nthat would persuade the user to\\npurchase/renew the pass on a timely\\npurchase/renew the pass on a timely\\nbasis.\\nbasis.\\nWireframes\\nProblem & Validation\\nProposed Solutions\\nPrioritization\\nSurvey Insights\\nOverview\\nLink to screens and flow'),\n",
       " Document(id='00c08b9d-5046-4a7c-9ce2-66ae97cf4212', metadata={'producer': 'Canva', 'creator': 'Canva', 'creationdate': '2024-05-23T03:45:33+00:00', 'source': 'zepto.pdf', 'file_path': 'zepto.pdf', 'total_pages': 9, 'format': 'PDF 1.4', 'title': 'NL - Zepto', 'author': 'Bhallamudi Sriharsha', 'subject': '', 'keywords': 'DAGEnn4c29g,BAD8HHSDm2U', 'moddate': '2024-05-23T03:45:29+00:00', 'trapped': '', 'modDate': \"D:20240523034529+00'00'\", 'creationDate': \"D:20240523034533+00'00'\", 'page': 8}, page_content='Engagement\\nTracks the % of users completing a purchase that includes at least one product recommendation from Pantry Pulse\\nRetention\\nMETRICS - PANTRY PULSE\\nAssesses the number of users committing to the Pantry Pulse feature and the stickiness of the feature\\nFUTURE SCOPE\\nSatisfaction\\nContextual \\nAwareness:\\nContextual \\nAwareness:\\nPantry Pulse will take into\\nPantry Pulse will take into\\naccount real-time factors\\naccount real-time factors\\nlike weather, time of day\\nlike weather, time of day\\nand upcoming events to\\nand upcoming events to\\npersonalize suggestions\\npersonalize suggestions\\nExplainable AI:\\nExplainable AI:    Develop\\nDevelop\\nexplainable AI features\\nexplainable AI features\\nwithin Pantry Pulse to\\nwithin Pantry Pulse to\\nallow users to understand\\nallow users to understand\\nthe \\nrationale \\nbehind\\nthe \\nrationale \\nbehind\\nbundle recommendations,\\nbundle recommendations,\\nfostering \\ntrust \\nand\\nfostering \\ntrust \\nand\\ntransparency\\ntransparency\\nIntegrations\\nIntegrations: : \\nExplore\\nExplore'),\n",
       " Document(id='439ca3de-64a3-4b8f-9319-ccdf50ca7f6b', metadata={'producer': 'Canva', 'creator': 'Canva', 'creationdate': '2024-05-23T03:45:33+00:00', 'source': 'zepto.pdf', 'file_path': 'zepto.pdf', 'total_pages': 9, 'format': 'PDF 1.4', 'title': 'NL - Zepto', 'author': 'Bhallamudi Sriharsha', 'subject': '', 'keywords': 'DAGEnn4c29g,BAD8HHSDm2U', 'moddate': '2024-05-23T03:45:29+00:00', 'trapped': '', 'modDate': \"D:20240523034529+00'00'\", 'creationDate': \"D:20240523034533+00'00'\", 'page': 1}, page_content='Time-saving features like pre-made product bundles, product-related recommendations\\nA value-conscious individual who relies on quick commerce platforms for immediate needs and\\nconvenience\\nConvenience & Speed: A hassle-free way to get groceries and essentials delivered to his doorstep \\n \\nReliable Availability: The selected items should be readily available \\nUSER PERSONA\\nSmart shopping experience: A platform that suggests relevant products based on items browsed and previous purchases\\nValue for money: Product bundles, incentives and points that would push him to explore and shop more on the app\\nUsers wish to see product suggestions based on their search history, purchase patterns and trends/occasions \\nLimited product availability: He frequently encounters out-of-stock items, leading to frustration and placing the order on another app\\nLack of Personalization: He doesn’t receive product suggestions based on purchase history and browsing trends\\nHYPOTHESIS')]"
      ]
     },
     "execution_count": 19,
     "metadata": {},
     "output_type": "execute_result"
    }
   ],
   "source": [
    "retriever.invoke(\"hi\")"
   ]
  },
  {
   "cell_type": "code",
   "execution_count": 25,
   "metadata": {},
   "outputs": [],
   "source": [
    "from langchain.chains import RetrievalQA\n",
    "from langchain.prompts import PromptTemplate\n",
    "custom_prompt_template = \"\"\"\n",
    "You are an AI assistant that answers user queries based on the provided context. \n",
    "If the context is insufficient, respond by saying you don't have enough information. \n",
    "Be concise and accurate.\n",
    "\n",
    "Context:\n",
    "{context}\n",
    "\n",
    "Question:\n",
    "{question}\n",
    "\n",
    "Provide a detailed and well-structured response.\n",
    "give me short and onpoint answer\n",
    "\"\"\"\n",
    "\n",
    "# Create a PromptTemplate\n",
    "custom_prompt = PromptTemplate(\n",
    "    template=custom_prompt_template,\n",
    "    input_variables=[\"context\", \"question\"]\n",
    ")\n"
   ]
  },
  {
   "cell_type": "code",
   "execution_count": 26,
   "metadata": {},
   "outputs": [],
   "source": [
    "# Define OpenAI LLM\n",
    "llm=ChatGoogleGenerativeAI(model='gemini-2.0-flash',api_key=gemini_api_key)\n",
    "\n",
    "# Create RetrievalQA Chain\n",
    "qa_chain = RetrievalQA.from_chain_type(llm, retriever=retriever, chain_type=\"stuff\",chain_type_kwargs={\"prompt\": custom_prompt})\n"
   ]
  },
  {
   "cell_type": "code",
   "execution_count": 27,
   "metadata": {},
   "outputs": [
    {
     "data": {
      "text/plain": [
       "{'query': 'what is sale of zepto',\n",
       " 'result': 'Zepto\\'s sales strategies include:\\n\\n*   **\"Subscribe and Save\" Option:** Encourages users to subscribe to staples and essentials, with deliveries based on purchase patterns and user consent. This feature is linked to the Zepto Pass to incentivize its purchase/renewal.\\n*   **Bundles:** Allowing users to select products for bundles to promote autonomy and product discovery.'}"
      ]
     },
     "execution_count": 27,
     "metadata": {},
     "output_type": "execute_result"
    }
   ],
   "source": [
    "qa_chain.invoke(\"what is sale of zepto\")"
   ]
  },
  {
   "cell_type": "code",
   "execution_count": null,
   "metadata": {},
   "outputs": [],
   "source": []
  }
 ],
 "metadata": {
  "kernelspec": {
   "display_name": "agent",
   "language": "python",
   "name": "python3"
  },
  "language_info": {
   "codemirror_mode": {
    "name": "ipython",
    "version": 3
   },
   "file_extension": ".py",
   "mimetype": "text/x-python",
   "name": "python",
   "nbconvert_exporter": "python",
   "pygments_lexer": "ipython3",
   "version": "3.10.16"
  }
 },
 "nbformat": 4,
 "nbformat_minor": 2
}
